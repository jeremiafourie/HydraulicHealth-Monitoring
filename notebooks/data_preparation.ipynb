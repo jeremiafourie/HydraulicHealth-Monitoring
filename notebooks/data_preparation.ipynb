{
 "cells": [
  {
   "cell_type": "markdown",
   "id": "5557c1ba",
   "metadata": {},
   "source": [
    "# Data Preparation\n",
    "## Getting the System Ready and Loading the data"
   ]
  },
  {
   "cell_type": "code",
   "execution_count": 1,
   "id": "92609369",
   "metadata": {},
   "outputs": [],
   "source": [
    "import sys\n",
    "from pathlib import Path\n",
    "\n",
    "# make sure parent folder (project root) is on the path\n",
    "project_root = Path.cwd().parent  # adjust if your notebook lives somewhere else\n",
    "sys.path.insert(0, str(project_root))\n",
    "\n",
    "from src.data_ingestion import load_sensor_data, load_profile_data, merge_data, save_cycles\n",
    "\n",
    "\n",
    "raw_dir = \"../data/raw\"\n",
    "profile_path = f\"{raw_dir}/profile.txt\"\n",
    "output_csv = \"../data/processed/hydraulic_cycles.csv\"\n",
    "\n",
    "sensors = load_sensor_data(raw_dir)\n",
    "profiles = load_profile_data(profile_path)\n",
    "df = merge_data(sensors, profiles)\n",
    "save_cycles(df, output_csv)\n"
   ]
  },
  {
   "cell_type": "markdown",
   "id": "908bcb22",
   "metadata": {},
   "source": [
    "## Understanding the Data"
   ]
  },
  {
   "cell_type": "markdown",
   "id": "8fa78110",
   "metadata": {},
   "source": [
    "### 1. Raw Sensor Data Overview\n",
    "\n",
    "| Group | Sensors                                                                 | Rate (Hz) | Samples per cycle | Columns                  |\n",
    "|-------|-------------------------------------------------------------------------|-----------|-------------------|--------------------------|\n",
    "| PS    | PS1–PS6                                                                 | 100       | 6 000             | 6 × 6 000 = 36 000       |\n",
    "| EPS1  | EPS1 (power)                                                            | 100       | 6 000             | 6 000                    |\n",
    "| FS    | FS1–FS2 (flow)                                                          | 10        | 600               | 2 × 600 = 1 200          |\n",
    "| LOW   | TS1–TS4 (temp), VS1 (vibration), CE (cool eff.), CP (cool pow.), SE (eff factor) | 1         | 60                | 8 × 60 = 480             |\n",
    "| **Total** |                                                                         |           |                   | **43 680**               |\n",
    "\n",
    "- **Cycles (rows):** 2 205  \n",
    "- **Flattened readings (columns):** 43 680  \n",
    "- **Each cycle:** 60 s of sensor readings "
   ]
  },
  {
   "cell_type": "code",
   "execution_count": 2,
   "id": "3e5c5b37",
   "metadata": {},
   "outputs": [
    {
     "name": "stdout",
     "output_type": "stream",
     "text": [
      "Sensor data shape: (2205, 43680)\n"
     ]
    }
   ],
   "source": [
    "print(\"Sensor data shape:\", sensors.shape)"
   ]
  },
  {
   "cell_type": "markdown",
   "id": "d657d88d",
   "metadata": {},
   "source": [
    "### 2. Health Profile Data"
   ]
  },
  {
   "cell_type": "code",
   "execution_count": 3,
   "id": "ba1f02ed",
   "metadata": {},
   "outputs": [
    {
     "name": "stdout",
     "output_type": "stream",
     "text": [
      "Profile data shape: (2205, 5)\n"
     ]
    },
    {
     "data": {
      "text/html": [
       "<div>\n",
       "<style scoped>\n",
       "    .dataframe tbody tr th:only-of-type {\n",
       "        vertical-align: middle;\n",
       "    }\n",
       "\n",
       "    .dataframe tbody tr th {\n",
       "        vertical-align: top;\n",
       "    }\n",
       "\n",
       "    .dataframe thead th {\n",
       "        text-align: right;\n",
       "    }\n",
       "</style>\n",
       "<table border=\"1\" class=\"dataframe\">\n",
       "  <thead>\n",
       "    <tr style=\"text-align: right;\">\n",
       "      <th></th>\n",
       "      <th>cooler_pct</th>\n",
       "      <th>valve_pct</th>\n",
       "      <th>pump_leak</th>\n",
       "      <th>acc_pressure</th>\n",
       "      <th>stable_flag</th>\n",
       "    </tr>\n",
       "  </thead>\n",
       "  <tbody>\n",
       "    <tr>\n",
       "      <th>0</th>\n",
       "      <td>3</td>\n",
       "      <td>100</td>\n",
       "      <td>0</td>\n",
       "      <td>130</td>\n",
       "      <td>1</td>\n",
       "    </tr>\n",
       "    <tr>\n",
       "      <th>1</th>\n",
       "      <td>3</td>\n",
       "      <td>100</td>\n",
       "      <td>0</td>\n",
       "      <td>130</td>\n",
       "      <td>1</td>\n",
       "    </tr>\n",
       "    <tr>\n",
       "      <th>2</th>\n",
       "      <td>3</td>\n",
       "      <td>100</td>\n",
       "      <td>0</td>\n",
       "      <td>130</td>\n",
       "      <td>1</td>\n",
       "    </tr>\n",
       "    <tr>\n",
       "      <th>3</th>\n",
       "      <td>3</td>\n",
       "      <td>100</td>\n",
       "      <td>0</td>\n",
       "      <td>130</td>\n",
       "      <td>1</td>\n",
       "    </tr>\n",
       "    <tr>\n",
       "      <th>4</th>\n",
       "      <td>3</td>\n",
       "      <td>100</td>\n",
       "      <td>0</td>\n",
       "      <td>130</td>\n",
       "      <td>1</td>\n",
       "    </tr>\n",
       "  </tbody>\n",
       "</table>\n",
       "</div>"
      ],
      "text/plain": [
       "   cooler_pct  valve_pct  pump_leak  acc_pressure  stable_flag\n",
       "0           3        100          0           130            1\n",
       "1           3        100          0           130            1\n",
       "2           3        100          0           130            1\n",
       "3           3        100          0           130            1\n",
       "4           3        100          0           130            1"
      ]
     },
     "execution_count": 3,
     "metadata": {},
     "output_type": "execute_result"
    }
   ],
   "source": [
    "print(\"Profile data shape:\", profiles.shape)\n",
    "profiles.head()"
   ]
  },
  {
   "cell_type": "markdown",
   "id": "f8cd4304",
   "metadata": {},
   "source": [
    "### 3. Column Naming Convention\n",
    "All sensor columns follow `<sensor>_<t>`, where:\n",
    "\n",
    "- `<sensor>` is the file/station name (e.g. PS1, TS3, CP, …)\n",
    "\n",
    "- `<t>` is the sample index in that cycle"
   ]
  },
  {
   "cell_type": "code",
   "execution_count": 4,
   "id": "0589df4e",
   "metadata": {},
   "outputs": [
    {
     "name": "stdout",
     "output_type": "stream",
     "text": [
      "First 5 cols: ['PS1_0', 'PS1_1', 'PS1_2', 'PS1_3', 'PS1_4']\n",
      "Last 5 cols:  ['SE_55', 'SE_56', 'SE_57', 'SE_58', 'SE_59']\n"
     ]
    }
   ],
   "source": [
    "# Peek at first/last few column names\n",
    "cols = sensors.columns.tolist()\n",
    "print(\"First 5 cols:\", cols[:5])\n",
    "print(\"Last 5 cols: \", cols[-5:])"
   ]
  },
  {
   "cell_type": "markdown",
   "id": "c8fa9ab6",
   "metadata": {},
   "source": [
    "## Missing Value and Outlier Treatment"
   ]
  }
 ],
 "metadata": {
  "kernelspec": {
   "display_name": "Python 3",
   "language": "python",
   "name": "python3"
  },
  "language_info": {
   "codemirror_mode": {
    "name": "ipython",
    "version": 3
   },
   "file_extension": ".py",
   "mimetype": "text/x-python",
   "name": "python",
   "nbconvert_exporter": "python",
   "pygments_lexer": "ipython3",
   "version": "3.12.4"
  }
 },
 "nbformat": 4,
 "nbformat_minor": 5
}
