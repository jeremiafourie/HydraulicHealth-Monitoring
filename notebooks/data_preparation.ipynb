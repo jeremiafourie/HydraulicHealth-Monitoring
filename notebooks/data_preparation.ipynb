{
 "cells": [
  {
   "cell_type": "code",
   "execution_count": 1,
   "id": "92609369",
   "metadata": {},
   "outputs": [
    {
     "name": "stdout",
     "output_type": "stream",
     "text": [
      "Saved processed data to ../data/processed/hydraulic_cycles.csv, shape = (2205, 43685)\n"
     ]
    }
   ],
   "source": [
    "import pandas as pd\n",
    "import glob\n",
    "import os\n",
    "\n",
    "# 1. Point to your raw data folder\n",
    "RAW_DIR = \"../data/raw\"\n",
    "PROCESSED_CSV = \"../data/processed/hydraulic_cycles.csv\"\n",
    "\n",
    "# 2. Define your sensor files and their sampling rates\n",
    "#    (matches the README: PS1–PS6 + EPS1 @100Hz, FS1–FS2 @10Hz, TS1–TS4, VS1, CE, CP, SE @1Hz)\n",
    "sensor_groups = {\n",
    "    \"PS\":    {\"files\": [f\"PS{i}.txt\"    for i in range(1,7)],   \"points\": 6000},\n",
    "    \"EPS1\":  {\"files\": [\"EPS1.txt\"],        \"points\": 6000},\n",
    "    \"FS\":    {\"files\": [\"FS1.txt\",\"FS2.txt\"],\"points\": 600},\n",
    "    \"LOW\":   {\"files\": [\"TS1.txt\",\"TS2.txt\",\"TS3.txt\",\"TS4.txt\",\n",
    "                        \"VS1.txt\",\"CE.txt\",\"CP.txt\",\"SE.txt\"], \"points\": 60},\n",
    "}\n",
    "\n",
    "# 3. Load each sensor file into a DataFrame, name its columns, and collect into a list\n",
    "sensor_dfs = []\n",
    "for group in sensor_groups.values():\n",
    "    for fname in group[\"files\"]:\n",
    "        path = os.path.join(RAW_DIR, fname)\n",
    "        # read tab‑delimited, no header\n",
    "        df = pd.read_csv(path, sep=\"\\t\", header=None)\n",
    "        # generate column names like 'PS1_0'...'PS1_5999'\n",
    "        base = os.path.splitext(fname)[0]  # e.g. 'PS1'\n",
    "        df.columns = [f\"{base}_{i}\" for i in range(group[\"points\"])]\n",
    "        sensor_dfs.append(df)\n",
    "\n",
    "# 4. Concatenate all sensor DataFrames side-by-side\n",
    "#    They all have 2205 rows (one per 60‑s cycle), so axis=1 works\n",
    "sensors = pd.concat(sensor_dfs, axis=1)\n",
    "\n",
    "# 5. Load the target conditions (profile.txt)\n",
    "profile_cols = [\n",
    "    \"cooler_pct\",   # 3..100\n",
    "    \"valve_pct\",    # 73..100\n",
    "    \"pump_leak\",    # 0..2\n",
    "    \"acc_pressure\", # 90..130\n",
    "    \"stable_flag\"   # 0 or 1\n",
    "]\n",
    "profile = pd.read_csv(\n",
    "    os.path.join(RAW_DIR, \"profile.txt\"),\n",
    "    sep=\"\\t\",\n",
    "    header=None,\n",
    "    names=profile_cols\n",
    ")\n",
    "\n",
    "# 6. Combine sensors + profile into one DataFrame\n",
    "df = pd.concat([sensors, profile], axis=1)\n",
    "\n",
    "# 7. Save to disk for easy reuse\n",
    "df.to_csv(PROCESSED_CSV, index=False)\n",
    "print(f\"Saved processed data to {PROCESSED_CSV}, shape = {df.shape}\")\n"
   ]
  }
 ],
 "metadata": {
  "kernelspec": {
   "display_name": "Python 3",
   "language": "python",
   "name": "python3"
  },
  "language_info": {
   "codemirror_mode": {
    "name": "ipython",
    "version": 3
   },
   "file_extension": ".py",
   "mimetype": "text/x-python",
   "name": "python",
   "nbconvert_exporter": "python",
   "pygments_lexer": "ipython3",
   "version": "3.12.4"
  }
 },
 "nbformat": 4,
 "nbformat_minor": 5
}
