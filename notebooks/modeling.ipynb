{
 "cells": [
  {
   "cell_type": "markdown",
   "id": "3f2dc666",
   "metadata": {},
   "source": [
    "# Modeling"
   ]
  },
  {
   "cell_type": "code",
   "execution_count": 24,
   "id": "eb5cf5f9",
   "metadata": {},
   "outputs": [
    {
     "name": "stdout",
     "output_type": "stream",
     "text": [
      "Features matrix: (2205, 136)\n"
     ]
    }
   ],
   "source": [
    "import sys\n",
    "from pathlib import Path\n",
    "\n",
    "# make sure parent folder (project root) is on the path\n",
    "project_root = Path.cwd().parent  # adjust if your notebook lives somewhere else\n",
    "sys.path.insert(0, str(project_root))\n",
    "\n",
    "from sklearn.ensemble import RandomForestClassifier, GradientBoostingClassifier\n",
    "from src.modeling import (\n",
    "    load_features,\n",
    "    train_test_evaluate,\n",
    "    publish_models\n",
    ")\n",
    "\n",
    "# Load data\n",
    "X, targets, _ = load_features(\"../data/processed/features.csv\")\n",
    "print(\"Features matrix:\", X.shape)"
   ]
  },
  {
   "cell_type": "code",
   "execution_count": null,
   "id": "d231ad23",
   "metadata": {},
   "outputs": [],
   "source": [
    "# Define models to train\n",
    "models_to_publish = {}\n",
    "for model_cls, label in [\n",
    "    (RandomForestClassifier, 'rf')\n",
    "]:\n",
    "    for tgt, y in targets.items():\n",
    "        est = model_cls(n_estimators=100, random_state=42)\n",
    "        out = train_test_evaluate(est, X, y)\n",
    "        models_to_publish[f\"{label}_{tgt}\"] = out['model']\n",
    "\n",
    "# Publish all at once\n",
    "publish_models(models_to_publish, \"../artifacts\")"
   ]
  },
  {
   "cell_type": "markdown",
   "id": "0dc8c0e4",
   "metadata": {},
   "source": [
    "# Cross-Validation"
   ]
  }
 ],
 "metadata": {
  "kernelspec": {
   "display_name": "Python 3",
   "language": "python",
   "name": "python3"
  },
  "language_info": {
   "codemirror_mode": {
    "name": "ipython",
    "version": 3
   },
   "file_extension": ".py",
   "mimetype": "text/x-python",
   "name": "python",
   "nbconvert_exporter": "python",
   "pygments_lexer": "ipython3",
   "version": "3.12.4"
  }
 },
 "nbformat": 4,
 "nbformat_minor": 5
}
