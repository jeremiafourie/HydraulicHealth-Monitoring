{
 "cells": [
  {
   "cell_type": "markdown",
   "id": "3f2dc666",
   "metadata": {},
   "source": [
    "# Modeling"
   ]
  },
  {
   "cell_type": "markdown",
   "id": "41773007",
   "metadata": {},
   "source": [
    "## Setup & Imports"
   ]
  },
  {
   "cell_type": "code",
   "execution_count": 1,
   "id": "16522874",
   "metadata": {},
   "outputs": [],
   "source": [
    "# Standard imports + our modeling module\n",
    "import pandas as pd\n",
    "import numpy as np\n",
    "import matplotlib.pyplot as plt\n",
    "import sys\n",
    "from pathlib import Path\n",
    "\n",
    "# make sure parent folder (project root) is on the path\n",
    "project_root = Path.cwd().parent\n",
    "sys.path.insert(0, str(project_root))\n",
    "\n",
    "# Modelling utilities\n",
    "from sklearn.ensemble import RandomForestClassifier\n",
    "from src.modeling import (\n",
    "    load_features,\n",
    "    cross_validate_model,\n",
    "    train_test_evaluate,\n",
    "    evaluate_models\n",
    ")\n",
    "\n",
    "# Scikit-learn imports for experiments\n",
    "from sklearn.ensemble import RandomForestClassifier, GradientBoostingClassifier\n",
    "from sklearn.svm import SVC\n",
    "from sklearn.model_selection import RandomizedSearchCV, StratifiedKFold, train_test_split\n",
    "from sklearn.metrics import f1_score, classification_report\n",
    "from imblearn.over_sampling import SMOTE\n",
    "import lightgbm as lgb\n",
    "from sklearn.neural_network import MLPClassifier\n",
    "\n",
    "# Set up default CV\n",
    "CV = StratifiedKFold(n_splits=5, shuffle=True, random_state=42)\n"
   ]
  },
  {
   "cell_type": "markdown",
   "id": "3aa0da2a",
   "metadata": {},
   "source": [
    "## Load Data"
   ]
  },
  {
   "cell_type": "code",
   "execution_count": 2,
   "id": "192fddc1",
   "metadata": {},
   "outputs": [
    {
     "name": "stdout",
     "output_type": "stream",
     "text": [
      "Features shape: (2205, 136)\n",
      "Targets keys: dict_keys(['cooler_pct', 'valve_pct', 'pump_leak', 'acc_pressure'])\n"
     ]
    }
   ],
   "source": [
    "FEATURE_CSV = \"../data/processed/features.csv\"\n",
    "X, targets, feature_names = load_features(FEATURE_CSV)\n",
    "print(\"Features shape:\", X.shape)\n",
    "print(\"Targets keys:\", targets.keys())"
   ]
  },
  {
   "cell_type": "markdown",
   "id": "e1fd142f",
   "metadata": {},
   "source": [
    "## Baseline Evaluation of Candidate Models\n",
    "Compare RandomForest, GradientBoosting and SVC with grouped train/test metrics."
   ]
  },
  {
   "cell_type": "code",
   "execution_count": 3,
   "id": "d231ad23",
   "metadata": {},
   "outputs": [
    {
     "name": "stdout",
     "output_type": "stream",
     "text": [
      "              model        target  accuracy  f1_macro\n",
      "0      RandomForest    cooler_pct  1.000000  1.000000\n",
      "1      RandomForest     valve_pct  0.986395  0.982805\n",
      "2      RandomForest     pump_leak  0.997732  0.996616\n",
      "3      RandomForest  acc_pressure  0.968254  0.965000\n",
      "4  GradientBoosting    cooler_pct  1.000000  1.000000\n",
      "5  GradientBoosting     valve_pct  0.986395  0.981546\n",
      "6  GradientBoosting     pump_leak  0.995465  0.993230\n",
      "7  GradientBoosting  acc_pressure  0.963719  0.958744\n",
      "\n",
      "Sample report for RandomForest on cooler_pct:\n",
      "\n",
      "              precision    recall  f1-score   support\n",
      "\n",
      "           3       1.00      1.00      1.00       147\n",
      "          20       1.00      1.00      1.00       146\n",
      "         100       1.00      1.00      1.00       148\n",
      "\n",
      "    accuracy                           1.00       441\n",
      "   macro avg       1.00      1.00      1.00       441\n",
      "weighted avg       1.00      1.00      1.00       441\n",
      "\n"
     ]
    }
   ],
   "source": [
    "candidates = {\n",
    "    \"RandomForest\": RandomForestClassifier(n_estimators=100, random_state=42),\n",
    "    \"GradientBoosting\": GradientBoostingClassifier(random_state=42),\n",
    "    # \"SVC\": SVC(random_state=42)\n",
    "}\n",
    "\n",
    "metrics_df, reports = evaluate_models(candidates, X, targets)\n",
    "print(metrics_df)\n",
    "\n",
    "# (Optionally display one of the classification reports)\n",
    "print(\"\\nSample report for RandomForest on cooler_pct:\\n\")\n",
    "print(reports[\"RandomForest_cooler_pct\"])\n"
   ]
  },
  {
   "cell_type": "markdown",
   "id": "3d8252b4",
   "metadata": {},
   "source": [
    "## Cross-Validation Summary\n",
    "Compute 5-fold CV (accuracy & macro-F1) for each model/target."
   ]
  },
  {
   "cell_type": "code",
   "execution_count": 4,
   "id": "d12c97b7",
   "metadata": {},
   "outputs": [
    {
     "name": "stdout",
     "output_type": "stream",
     "text": [
      "\n",
      "### RandomForest\n",
      "cooler_pct      → acc 0.998±0.001, F1 0.998±0.001\n",
      "valve_pct       → acc 0.993±0.002, F1 0.991±0.002\n",
      "pump_leak       → acc 0.995±0.002, F1 0.994±0.003\n",
      "acc_pressure    → acc 0.986±0.004, F1 0.984±0.004\n",
      "\n",
      "### GradientBoosting\n",
      "cooler_pct      → acc 0.999±0.001, F1 0.999±0.001\n",
      "valve_pct       → acc 0.990±0.004, F1 0.988±0.005\n",
      "pump_leak       → acc 0.992±0.005, F1 0.989±0.007\n",
      "acc_pressure    → acc 0.979±0.008, F1 0.975±0.010\n"
     ]
    }
   ],
   "source": [
    "for name, est in candidates.items():\n",
    "    print(f\"\\n### {name}\")\n",
    "    for tgt, y in targets.items():\n",
    "        cv_df = cross_validate_model(est, X, y, cv=CV)\n",
    "        print(f\"{tgt:15s} →\", \n",
    "              f\"acc {cv_df['accuracy_mean'].iloc[0]:.3f}±{cv_df['accuracy_std'].iloc[0]:.3f},\",\n",
    "              f\"F1 {cv_df['f1_macro_mean'].iloc[0]:.3f}±{cv_df['f1_macro_std'].iloc[0]:.3f}\")\n"
   ]
  },
  {
   "cell_type": "markdown",
   "id": "7ea0e536",
   "metadata": {},
   "source": [
    "## Experiment A: Hyperparameter Tuning (RandomizedSearchCV)\n",
    "Looping Hyperparameter Tuning over all targets"
   ]
  },
  {
   "cell_type": "code",
   "execution_count": 5,
   "id": "7f81f48d",
   "metadata": {},
   "outputs": [
    {
     "name": "stdout",
     "output_type": "stream",
     "text": [
      "\n",
      "Tuning RandomForest for 'cooler_pct'\n",
      " → Best f1_macro: 0.9982 with {'n_estimators': 100, 'min_samples_split': 10, 'min_samples_leaf': 1, 'max_depth': 10, 'bootstrap': True}\n",
      "\n",
      "Tuning RandomForest for 'valve_pct'\n",
      " → Best f1_macro: 0.9911 with {'n_estimators': 100, 'min_samples_split': 2, 'min_samples_leaf': 1, 'max_depth': 20, 'bootstrap': True}\n",
      "\n",
      "Tuning RandomForest for 'pump_leak'\n",
      " → Best f1_macro: 0.9950 with {'n_estimators': 100, 'min_samples_split': 5, 'min_samples_leaf': 1, 'max_depth': 20, 'bootstrap': True}\n",
      "\n",
      "Tuning RandomForest for 'acc_pressure'\n",
      " → Best f1_macro: 0.9890 with {'n_estimators': 200, 'min_samples_split': 5, 'min_samples_leaf': 1, 'max_depth': 20, 'bootstrap': False}\n"
     ]
    }
   ],
   "source": [
    "from sklearn.model_selection import RandomizedSearchCV\n",
    "\n",
    "param_dist = {\n",
    "    \"n_estimators\": [50,100,200,300],\n",
    "    \"max_depth\":    [None,10,20,30],\n",
    "    \"min_samples_split\":[2,5,10],\n",
    "    \"min_samples_leaf\": [1,2,4],\n",
    "    \"bootstrap\":[True,False]\n",
    "}\n",
    "\n",
    "best_params = {}\n",
    "for tgt, y in targets.items():\n",
    "    print(f\"\\nTuning RandomForest for {tgt!r}\")\n",
    "    rs = RandomizedSearchCV(\n",
    "        RandomForestClassifier(random_state=42),\n",
    "        param_distributions=param_dist,\n",
    "        n_iter=30,\n",
    "        cv=CV,\n",
    "        scoring=\"f1_macro\",\n",
    "        n_jobs=-1,\n",
    "        random_state=42,\n",
    "        verbose=0\n",
    "    )\n",
    "    rs.fit(X, y)\n",
    "    best_params[tgt] = rs.best_params_\n",
    "    print(f\" → Best f1_macro: {rs.best_score_:.4f} with {rs.best_params_}\")\n",
    "\n",
    "# now `best_params` holds one dict of tuned hyper-params per target"
   ]
  },
  {
   "cell_type": "markdown",
   "id": "e0906aca",
   "metadata": {},
   "source": [
    "## Experiment B: Handling Class Imbalance\n",
    "Looping Class-Imbalance Strategies\n"
   ]
  },
  {
   "cell_type": "code",
   "execution_count": 6,
   "id": "13bf856f",
   "metadata": {},
   "outputs": [
    {
     "name": "stdout",
     "output_type": "stream",
     "text": [
      "\n",
      "=== Handling imbalance for 'cooler_pct' ===\n",
      "\n",
      "=== Handling imbalance for 'valve_pct' ===\n",
      "\n",
      "=== Handling imbalance for 'pump_leak' ===\n",
      "\n",
      "=== Handling imbalance for 'acc_pressure' ===\n"
     ]
    },
    {
     "data": {
      "text/html": [
       "<div>\n",
       "<style scoped>\n",
       "    .dataframe tbody tr th:only-of-type {\n",
       "        vertical-align: middle;\n",
       "    }\n",
       "\n",
       "    .dataframe tbody tr th {\n",
       "        vertical-align: top;\n",
       "    }\n",
       "\n",
       "    .dataframe thead th {\n",
       "        text-align: right;\n",
       "    }\n",
       "</style>\n",
       "<table border=\"1\" class=\"dataframe\">\n",
       "  <thead>\n",
       "    <tr style=\"text-align: right;\">\n",
       "      <th></th>\n",
       "      <th>target</th>\n",
       "      <th>svc_bal_f1</th>\n",
       "      <th>rf+smote_f1</th>\n",
       "    </tr>\n",
       "  </thead>\n",
       "  <tbody>\n",
       "    <tr>\n",
       "      <th>0</th>\n",
       "      <td>cooler_pct</td>\n",
       "      <td>0.758114</td>\n",
       "      <td>1.000000</td>\n",
       "    </tr>\n",
       "    <tr>\n",
       "      <th>1</th>\n",
       "      <td>valve_pct</td>\n",
       "      <td>0.210015</td>\n",
       "      <td>0.982804</td>\n",
       "    </tr>\n",
       "    <tr>\n",
       "      <th>2</th>\n",
       "      <td>pump_leak</td>\n",
       "      <td>0.337086</td>\n",
       "      <td>0.994256</td>\n",
       "    </tr>\n",
       "    <tr>\n",
       "      <th>3</th>\n",
       "      <td>acc_pressure</td>\n",
       "      <td>0.201219</td>\n",
       "      <td>0.965698</td>\n",
       "    </tr>\n",
       "  </tbody>\n",
       "</table>\n",
       "</div>"
      ],
      "text/plain": [
       "         target  svc_bal_f1  rf+smote_f1\n",
       "0    cooler_pct    0.758114     1.000000\n",
       "1     valve_pct    0.210015     0.982804\n",
       "2     pump_leak    0.337086     0.994256\n",
       "3  acc_pressure    0.201219     0.965698"
      ]
     },
     "execution_count": 6,
     "metadata": {},
     "output_type": "execute_result"
    }
   ],
   "source": [
    "from imblearn.over_sampling import SMOTE\n",
    "\n",
    "imbalance_results = []\n",
    "\n",
    "for tgt, y in targets.items():\n",
    "    print(f\"\\n=== Handling imbalance for {tgt!r} ===\")\n",
    "    # train/test split\n",
    "    X_tr, X_te, y_tr, y_te = train_test_split(X, y, stratify=y, test_size=0.2, random_state=42)\n",
    "\n",
    "    # a) SVC with class_weight='balanced'\n",
    "    svc_bal = SVC(class_weight=\"balanced\", random_state=42)\n",
    "    svc_bal.fit(X_tr, y_tr)\n",
    "    f1_bal = f1_score(y_te, svc_bal.predict(X_te), average=\"macro\")\n",
    "\n",
    "    # b) RandomForest + SMOTE\n",
    "    sm = SMOTE(random_state=42)\n",
    "    X_res, y_res = sm.fit_resample(X_tr, y_tr)\n",
    "    rf_sm = RandomForestClassifier(n_estimators=100, random_state=42)\n",
    "    rf_sm.fit(X_res, y_res)\n",
    "    f1_sm = f1_score(y_te, rf_sm.predict(X_te), average=\"macro\")\n",
    "\n",
    "    imbalance_results.append({\n",
    "        \"target\": tgt,\n",
    "        \"svc_bal_f1\": f1_bal,\n",
    "        \"rf+smote_f1\": f1_sm\n",
    "    })\n",
    "\n",
    "pd.DataFrame(imbalance_results)"
   ]
  },
  {
   "cell_type": "markdown",
   "id": "17f0b57a",
   "metadata": {},
   "source": [
    "## Experiment C: Alternative Models (LightGBM & MLP)\n",
    "Looping Alternative Models"
   ]
  },
  {
   "cell_type": "code",
   "execution_count": 8,
   "id": "e6b41fb6",
   "metadata": {},
   "outputs": [
    {
     "name": "stdout",
     "output_type": "stream",
     "text": [
      "\n",
      "*** Alternative models for 'cooler_pct' ***\n"
     ]
    },
    {
     "name": "stderr",
     "output_type": "stream",
     "text": [
      "c:\\Users\\jerem\\OneDrive\\Desktop\\HydraulicHealth-Monitoring\\.venv\\Lib\\site-packages\\sklearn\\utils\\validation.py:2739: UserWarning: X does not have valid feature names, but LGBMClassifier was fitted with feature names\n",
      "  warnings.warn(\n"
     ]
    },
    {
     "name": "stdout",
     "output_type": "stream",
     "text": [
      "\n",
      "*** Alternative models for 'valve_pct' ***\n"
     ]
    },
    {
     "name": "stderr",
     "output_type": "stream",
     "text": [
      "c:\\Users\\jerem\\OneDrive\\Desktop\\HydraulicHealth-Monitoring\\.venv\\Lib\\site-packages\\sklearn\\utils\\validation.py:2739: UserWarning: X does not have valid feature names, but LGBMClassifier was fitted with feature names\n",
      "  warnings.warn(\n",
      "c:\\Users\\jerem\\OneDrive\\Desktop\\HydraulicHealth-Monitoring\\.venv\\Lib\\site-packages\\sklearn\\metrics\\_classification.py:1565: UndefinedMetricWarning: Precision is ill-defined and being set to 0.0 in labels with no predicted samples. Use `zero_division` parameter to control this behavior.\n",
      "  _warn_prf(average, modifier, f\"{metric.capitalize()} is\", len(result))\n",
      "c:\\Users\\jerem\\OneDrive\\Desktop\\HydraulicHealth-Monitoring\\.venv\\Lib\\site-packages\\sklearn\\metrics\\_classification.py:1565: UndefinedMetricWarning: Precision is ill-defined and being set to 0.0 in labels with no predicted samples. Use `zero_division` parameter to control this behavior.\n",
      "  _warn_prf(average, modifier, f\"{metric.capitalize()} is\", len(result))\n",
      "c:\\Users\\jerem\\OneDrive\\Desktop\\HydraulicHealth-Monitoring\\.venv\\Lib\\site-packages\\sklearn\\metrics\\_classification.py:1565: UndefinedMetricWarning: Precision is ill-defined and being set to 0.0 in labels with no predicted samples. Use `zero_division` parameter to control this behavior.\n",
      "  _warn_prf(average, modifier, f\"{metric.capitalize()} is\", len(result))\n"
     ]
    },
    {
     "name": "stdout",
     "output_type": "stream",
     "text": [
      "\n",
      "*** Alternative models for 'pump_leak' ***\n"
     ]
    },
    {
     "name": "stderr",
     "output_type": "stream",
     "text": [
      "c:\\Users\\jerem\\OneDrive\\Desktop\\HydraulicHealth-Monitoring\\.venv\\Lib\\site-packages\\sklearn\\utils\\validation.py:2739: UserWarning: X does not have valid feature names, but LGBMClassifier was fitted with feature names\n",
      "  warnings.warn(\n"
     ]
    },
    {
     "name": "stdout",
     "output_type": "stream",
     "text": [
      "\n",
      "*** Alternative models for 'acc_pressure' ***\n"
     ]
    },
    {
     "name": "stderr",
     "output_type": "stream",
     "text": [
      "c:\\Users\\jerem\\OneDrive\\Desktop\\HydraulicHealth-Monitoring\\.venv\\Lib\\site-packages\\sklearn\\utils\\validation.py:2739: UserWarning: X does not have valid feature names, but LGBMClassifier was fitted with feature names\n",
      "  warnings.warn(\n",
      "c:\\Users\\jerem\\OneDrive\\Desktop\\HydraulicHealth-Monitoring\\.venv\\Lib\\site-packages\\sklearn\\metrics\\_classification.py:1565: UndefinedMetricWarning: Precision is ill-defined and being set to 0.0 in labels with no predicted samples. Use `zero_division` parameter to control this behavior.\n",
      "  _warn_prf(average, modifier, f\"{metric.capitalize()} is\", len(result))\n",
      "c:\\Users\\jerem\\OneDrive\\Desktop\\HydraulicHealth-Monitoring\\.venv\\Lib\\site-packages\\sklearn\\metrics\\_classification.py:1565: UndefinedMetricWarning: Precision is ill-defined and being set to 0.0 in labels with no predicted samples. Use `zero_division` parameter to control this behavior.\n",
      "  _warn_prf(average, modifier, f\"{metric.capitalize()} is\", len(result))\n",
      "c:\\Users\\jerem\\OneDrive\\Desktop\\HydraulicHealth-Monitoring\\.venv\\Lib\\site-packages\\sklearn\\metrics\\_classification.py:1565: UndefinedMetricWarning: Precision is ill-defined and being set to 0.0 in labels with no predicted samples. Use `zero_division` parameter to control this behavior.\n",
      "  _warn_prf(average, modifier, f\"{metric.capitalize()} is\", len(result))\n"
     ]
    },
    {
     "data": {
      "text/html": [
       "<div>\n",
       "<style scoped>\n",
       "    .dataframe tbody tr th:only-of-type {\n",
       "        vertical-align: middle;\n",
       "    }\n",
       "\n",
       "    .dataframe tbody tr th {\n",
       "        vertical-align: top;\n",
       "    }\n",
       "\n",
       "    .dataframe thead th {\n",
       "        text-align: right;\n",
       "    }\n",
       "</style>\n",
       "<table border=\"1\" class=\"dataframe\">\n",
       "  <thead>\n",
       "    <tr style=\"text-align: right;\">\n",
       "      <th></th>\n",
       "      <th>target</th>\n",
       "      <th>lgbm_f1_macro</th>\n",
       "      <th>mlp_f1_macro</th>\n",
       "    </tr>\n",
       "  </thead>\n",
       "  <tbody>\n",
       "    <tr>\n",
       "      <th>0</th>\n",
       "      <td>cooler_pct</td>\n",
       "      <td>1.000000</td>\n",
       "      <td>0.751046</td>\n",
       "    </tr>\n",
       "    <tr>\n",
       "      <th>1</th>\n",
       "      <td>valve_pct</td>\n",
       "      <td>0.979353</td>\n",
       "      <td>0.345183</td>\n",
       "    </tr>\n",
       "    <tr>\n",
       "      <th>2</th>\n",
       "      <td>pump_leak</td>\n",
       "      <td>1.000000</td>\n",
       "      <td>0.297733</td>\n",
       "    </tr>\n",
       "    <tr>\n",
       "      <th>3</th>\n",
       "      <td>acc_pressure</td>\n",
       "      <td>0.983121</td>\n",
       "      <td>0.219469</td>\n",
       "    </tr>\n",
       "  </tbody>\n",
       "</table>\n",
       "</div>"
      ],
      "text/plain": [
       "         target  lgbm_f1_macro  mlp_f1_macro\n",
       "0    cooler_pct       1.000000      0.751046\n",
       "1     valve_pct       0.979353      0.345183\n",
       "2     pump_leak       1.000000      0.297733\n",
       "3  acc_pressure       0.983121      0.219469"
      ]
     },
     "execution_count": 8,
     "metadata": {},
     "output_type": "execute_result"
    }
   ],
   "source": [
    "alt_results = []\n",
    "\n",
    "for tgt, y in targets.items():\n",
    "    print(f\"\\n*** Alternative models for {tgt!r} ***\")\n",
    "    # 1) train/test split\n",
    "    X_tr, X_te, y_tr, y_te = train_test_split(\n",
    "        X, y, stratify=y, test_size=0.2, random_state=42\n",
    "    )\n",
    "\n",
    "    # 2) ensure NumPy arrays to avoid feature-name mismatch\n",
    "    X_tr_arr = X_tr if isinstance(X_tr, np.ndarray) else X_tr.values\n",
    "    X_te_arr = X_te if isinstance(X_te, np.ndarray) else X_te.values\n",
    "\n",
    "    # 3) LightGBM\n",
    "    lgbm = lgb.LGBMClassifier(random_state=42, verbose=-1)\n",
    "    lgbm.fit(X_tr_arr, y_tr)\n",
    "    report_lgbm = classification_report(y_te, lgbm.predict(X_te_arr), output_dict=True)\n",
    "\n",
    "    # 4) MLP\n",
    "    mlp = MLPClassifier(hidden_layer_sizes=(100, 50), max_iter=300, random_state=42)\n",
    "    mlp.fit(X_tr_arr, y_tr)\n",
    "    report_mlp = classification_report(y_te, mlp.predict(X_te_arr), output_dict=True)\n",
    "\n",
    "    # 5) collect macro-F1 scores\n",
    "    alt_results.append({\n",
    "        \"target\": tgt,\n",
    "        \"lgbm_f1_macro\": report_lgbm[\"macro avg\"][\"f1-score\"],\n",
    "        \"mlp_f1_macro\": report_mlp[\"macro avg\"][\"f1-score\"]\n",
    "    })\n",
    "\n",
    "pd.DataFrame(alt_results)"
   ]
  }
 ],
 "metadata": {
  "kernelspec": {
   "display_name": ".venv",
   "language": "python",
   "name": "python3"
  },
  "language_info": {
   "codemirror_mode": {
    "name": "ipython",
    "version": 3
   },
   "file_extension": ".py",
   "mimetype": "text/x-python",
   "name": "python",
   "nbconvert_exporter": "python",
   "pygments_lexer": "ipython3",
   "version": "3.12.4"
  }
 },
 "nbformat": 4,
 "nbformat_minor": 5
}
