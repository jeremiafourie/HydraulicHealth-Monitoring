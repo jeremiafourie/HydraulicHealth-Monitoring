{
 "cells": [
  {
   "cell_type": "code",
   "execution_count": null,
   "id": "b89a2058",
   "metadata": {},
   "outputs": [],
   "source": [
    "# 04_modeling.ipynb\n",
    "import pandas as pd, os, joblib\n",
    "from sklearn.ensemble import RandomForestClassifier\n",
    "from sklearn.model_selection import train_test_split\n",
    "from sklearn.metrics import classification_report\n",
    "\n",
    "df = pd.read_csv(\"../data/processed/features.csv\")\n",
    "X = df.drop(columns=[\"cooler_pct\",\"valve_pct\",\"pump_leak\",\"acc_pressure\"])\n",
    "y = df[[\"cooler_pct\",\"valve_pct\",\"pump_leak\",\"acc_pressure\"]]\n",
    "\n",
    "results = {}\n",
    "for target in y.columns:\n",
    "    X_tr, X_val, y_tr, y_val = train_test_split(\n",
    "        X, y[target], stratify=y[target], test_size=0.2, random_state=42\n",
    "    )\n",
    "    clf = RandomForestClassifier(n_estimators=100, random_state=42)\n",
    "    clf.fit(X_tr, y_tr)\n",
    "    preds = clf.predict(X_val)\n",
    "    report = classification_report(y_val, preds, output_dict=True)\n",
    "    results[target] = report\n",
    "    print(f\"\\n--- {target} ---\")\n",
    "    print(classification_report(y_val, preds))\n",
    "    # save model\n",
    "    os.makedirs(\"../artifacts\", exist_ok=True)\n",
    "    joblib.dump(clf, f\"../artifacts/{target}_rf.pkl\")\n",
    "\n",
    "# Optional: assemble a summary table\n",
    "import pandas as pd\n",
    "summary = pd.DataFrame({\n",
    "    t: {\"accuracy\": results[t][\"accuracy\"],\n",
    "        **{f\"{cls}_f1\": results[t][cls][\"f1-score\"]\n",
    "           for cls in results[t] if cls not in [\"accuracy\",\"macro avg\",\"weighted avg\"]}}\n",
    "    for t in results\n",
    "}).T\n",
    "summary.to_csv(\"../artifacts/model_performance.csv\")\n",
    "print(\"\\nSaved performance summary to artifacts/model_performance.csv\")\n",
    "summary\n"
   ]
  }
 ],
 "metadata": {
  "language_info": {
   "name": "python"
  }
 },
 "nbformat": 4,
 "nbformat_minor": 5
}
